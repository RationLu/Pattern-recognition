{
 "cells": [
  {
   "cell_type": "code",
   "execution_count": 1,
   "id": "41bb2bcb-1362-4c81-be3d-8463c1e58fa8",
   "metadata": {},
   "outputs": [],
   "source": [
    "import numpy as np\n",
    "import scipy.linalg as sp_linalg"
   ]
  },
  {
   "cell_type": "code",
   "execution_count": 2,
   "id": "e113675b-be01-4fa5-86c1-b34f6713fa35",
   "metadata": {},
   "outputs": [
    {
     "data": {
      "text/plain": [
       "array([[ 1,  2,  3],\n",
       "       [ 2, -4,  6],\n",
       "       [ 3, -9, -3]])"
      ]
     },
     "execution_count": 2,
     "metadata": {},
     "output_type": "execute_result"
    }
   ],
   "source": [
    "A= [[1,  2,  3],\n",
    "    [2, -4,  6],\n",
    "    [3, -9, -3]]\n",
    "A= np.array(A)\n",
    "A"
   ]
  },
  {
   "cell_type": "code",
   "execution_count": 3,
   "id": "1535bee1-34b1-4bb9-b29d-dd3707179fbd",
   "metadata": {},
   "outputs": [
    {
     "data": {
      "text/plain": [
       "(array([[0., 1., 0.],\n",
       "        [0., 0., 1.],\n",
       "        [1., 0., 0.]]),\n",
       " array([[1.        , 0.        , 0.        ],\n",
       "        [0.33333333, 1.        , 0.        ],\n",
       "        [0.66666667, 0.4       , 1.        ]]),\n",
       " array([[ 3. , -9. , -3. ],\n",
       "        [ 0. ,  5. ,  4. ],\n",
       "        [ 0. ,  0. ,  6.4]]))"
      ]
     },
     "execution_count": 3,
     "metadata": {},
     "output_type": "execute_result"
    }
   ],
   "source": [
    "P,L,U= sp_linalg.lu(A)\n",
    "P, L, U"
   ]
  },
  {
   "cell_type": "code",
   "execution_count": 4,
   "id": "c4fc20f0-09aa-453c-adb8-dc59e3f2c5d6",
   "metadata": {},
   "outputs": [
    {
     "data": {
      "text/plain": [
       "array([[ 1.,  2.,  3.],\n",
       "       [ 2., -4.,  6.],\n",
       "       [ 3., -9., -3.]])"
      ]
     },
     "execution_count": 4,
     "metadata": {},
     "output_type": "execute_result"
    }
   ],
   "source": [
    "# 驗算\n",
    "P@L@U"
   ]
  },
  {
   "cell_type": "code",
   "execution_count": 5,
   "id": "1ed11a40-0e9d-4443-b024-cc3786a4af87",
   "metadata": {},
   "outputs": [],
   "source": [
    "assert (A==P@L@U).all()"
   ]
  },
  {
   "cell_type": "code",
   "execution_count": 6,
   "id": "f5244751-e4e2-459e-87c6-413bc4e67ee2",
   "metadata": {},
   "outputs": [],
   "source": [
    "assert np.allclose(A, P@L@U)"
   ]
  },
  {
   "cell_type": "code",
   "execution_count": null,
   "id": "07328c9b-83a0-4793-acb3-aaeea4acd152",
   "metadata": {},
   "outputs": [],
   "source": []
  }
 ],
 "metadata": {
  "kernelspec": {
   "display_name": "Python 3",
   "language": "python",
   "name": "python3"
  },
  "language_info": {
   "codemirror_mode": {
    "name": "ipython",
    "version": 3
   },
   "file_extension": ".py",
   "mimetype": "text/x-python",
   "name": "python",
   "nbconvert_exporter": "python",
   "pygments_lexer": "ipython3",
   "version": "3.8.8"
  }
 },
 "nbformat": 4,
 "nbformat_minor": 5
}
