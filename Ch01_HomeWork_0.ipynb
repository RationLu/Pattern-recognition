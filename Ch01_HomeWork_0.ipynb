{
 "cells": [
  {
   "cell_type": "code",
   "execution_count": 1,
   "id": "a53264d9-d192-49a3-8dbc-b552033bfb92",
   "metadata": {},
   "outputs": [
    {
     "data": {
      "text/plain": [
       "array([[ 1.],\n",
       "       [-1.],\n",
       "       [ 2.]])"
      ]
     },
     "execution_count": 1,
     "metadata": {},
     "output_type": "execute_result"
    }
   ],
   "source": [
    "import numpy as np\n",
    "import pandas as pd\n",
    "#三變數方程式\n",
    "A= [[1,-2,3],[-1,3,0],[2,-5,5]] #輸入A矩陣\n",
    "A= np.array(A) #np\n",
    "b= [9,-4,17] #輸入B矩陣\n",
    "b= np.array(b) #np\n",
    "b= b.reshape(3,1) #重塑成3列1行\n",
    "x= np.linalg.solve(A, b) #解答\n",
    "x"
   ]
  },
  {
   "cell_type": "code",
   "execution_count": 2,
   "id": "a4987432-29cd-462d-b10c-a05d9e0212ef",
   "metadata": {},
   "outputs": [
    {
     "data": {
      "text/plain": [
       "array([[ 1.],\n",
       "       [-1.],\n",
       "       [ 2.]])"
      ]
     },
     "execution_count": 2,
     "metadata": {},
     "output_type": "execute_result"
    }
   ],
   "source": [
    "np.linalg.inv(A)@b #驗算"
   ]
  },
  {
   "cell_type": "code",
   "execution_count": 3,
   "id": "ea43585b-0376-4c81-b110-5700cf935c64",
   "metadata": {},
   "outputs": [
    {
     "name": "stdout",
     "output_type": "stream",
     "text": [
      " \n",
      "\n",
      "n= 5,  \n",
      "\n",
      "A= [[ 0 -5 -2 -2  2]\n",
      " [ 4 -2  0 -3 -1]\n",
      " [ 2  1  3  3 -4]\n",
      " [ 1  2  2  3 -4]\n",
      " [ 0  4  3  4 -1]] \n",
      "\n",
      "b= [[ 0]\n",
      " [ 3]\n",
      " [ 4]\n",
      " [ 0]\n",
      " [-5]] \n",
      "\n",
      "x= [[-5.05357143]\n",
      " [-1.75      ]\n",
      " [ 7.30357143]\n",
      " [-5.66071429]\n",
      " [-2.73214286]] \n",
      "\n",
      "\n"
     ]
    },
    {
     "data": {
      "text/plain": [
       "array([[-5.05357143],\n",
       "       [-1.75      ],\n",
       "       [ 7.30357143],\n",
       "       [-5.66071429],\n",
       "       [-2.73214286]])"
      ]
     },
     "execution_count": 3,
     "metadata": {},
     "output_type": "execute_result"
    }
   ],
   "source": [
    "#五變數方程式 \n",
    "\n",
    "n=5\n",
    "\n",
    "\n",
    "np.random.seed(0) #隨機參數\n",
    "\n",
    "A= np.random.randint(-5,5,size=(n,n)) #5*5矩陣\n",
    "\n",
    " \n",
    "np.random.seed(1) \n",
    "\n",
    "b= np.random.randint(-5,5,size=(n,1)) #5*1矩陣\n",
    "\n",
    "x= np.linalg.solve(A, b) #運算\n",
    "\n",
    "print( \n",
    "\n",
    "f''' \n",
    "\n",
    "n= {n},  \n",
    "\n",
    "A= {A} \n",
    "\n",
    "b= {b} \n",
    "\n",
    "x= {x} \n",
    "\n",
    "''') \n",
    "np.linalg.inv(A)@b #驗算"
   ]
  },
  {
   "cell_type": "code",
   "execution_count": 4,
   "id": "a037ed5a-a27f-496b-9c92-8f754fa3c0a0",
   "metadata": {},
   "outputs": [
    {
     "name": "stdout",
     "output_type": "stream",
     "text": [
      " \n",
      "\n",
      "n= 10,  \n",
      "\n",
      "A= [[ 0  3  4  0 -5 -5 -4  2  1  4]\n",
      " [-3 -1  0 -3 -1 -3 -1  2  2  4]\n",
      " [-4  2 -5  1  4  4  2  1  4 -4]\n",
      " [-5 -4  3  3 -2  4  3  2 -2  1]\n",
      " [ 0 -4  4 -2 -1  3 -4 -1 -5 -2]\n",
      " [ 4 -3 -5 -1  4 -3  2  2  4  3]\n",
      " [ 1  4 -2  2  2 -1  0  4 -2  1]\n",
      " [ 3 -5 -3  2  2  4  2 -2 -5  3]\n",
      " [ 2  2 -4 -4 -2 -5  3  1 -1  0]\n",
      " [ 1 -3  0  2  3 -1 -1  2  2 -1]] \n",
      "\n",
      "b= [[-2]\n",
      " [ 1]\n",
      " [ 1]\n",
      " [-5]\n",
      " [ 4]\n",
      " [ 3]\n",
      " [-1]\n",
      " [ 2]\n",
      " [-5]\n",
      " [-5]] \n",
      "\n",
      "x= [[ 1.34701608]\n",
      " [ 0.93920126]\n",
      " [ 0.91827119]\n",
      " [-2.1209692 ]\n",
      " [ 0.59519967]\n",
      " [ 2.51647156]\n",
      " [-0.06057342]\n",
      " [ 0.44725952]\n",
      " [ 0.87600885]\n",
      " [ 1.26371152]] \n",
      "\n",
      "\n"
     ]
    },
    {
     "data": {
      "text/plain": [
       "array([[ 1.34701608],\n",
       "       [ 0.93920126],\n",
       "       [ 0.91827119],\n",
       "       [-2.1209692 ],\n",
       "       [ 0.59519967],\n",
       "       [ 2.51647156],\n",
       "       [-0.06057342],\n",
       "       [ 0.44725952],\n",
       "       [ 0.87600885],\n",
       "       [ 1.26371152]])"
      ]
     },
     "execution_count": 4,
     "metadata": {},
     "output_type": "execute_result"
    }
   ],
   "source": [
    "#十變數方程式 \n",
    "\n",
    "n=10\n",
    "\n",
    "\n",
    "np.random.seed(1)#隨機參數\n",
    "\n",
    "A= np.random.randint(-5,5,size=(n,n)) #10*10矩陣\n",
    "\n",
    " \n",
    "np.random.seed(5)#隨機參數\n",
    "\n",
    "b= np.random.randint(-5,5,size=(n,1)) #10*1矩陣\n",
    "\n",
    "x= np.linalg.solve(A, b) #運算\n",
    "\n",
    "print( \n",
    "\n",
    "f''' \n",
    "\n",
    "n= {n},  \n",
    "\n",
    "A= {A} \n",
    "\n",
    "b= {b} \n",
    "\n",
    "x= {x} \n",
    "\n",
    "''') \n",
    "np.linalg.inv(A)@b #驗算"
   ]
  }
 ],
 "metadata": {
  "kernelspec": {
   "display_name": "Python 3",
   "language": "python",
   "name": "python3"
  },
  "language_info": {
   "codemirror_mode": {
    "name": "ipython",
    "version": 3
   },
   "file_extension": ".py",
   "mimetype": "text/x-python",
   "name": "python",
   "nbconvert_exporter": "python",
   "pygments_lexer": "ipython3",
   "version": "3.8.8"
  }
 },
 "nbformat": 4,
 "nbformat_minor": 5
}
